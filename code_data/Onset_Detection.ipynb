{
 "cells": [
  {
   "cell_type": "code",
   "execution_count": 3,
   "metadata": {},
   "outputs": [],
   "source": [
    "import numpy as np\n",
    "import scipy.io.wavfile as wav\n",
    "from scipy.signal import convolve\n",
    "import matplotlib.pyplot as plt"
   ]
  },
  {
   "cell_type": "code",
   "execution_count": 4,
   "metadata": {},
   "outputs": [],
   "source": [
    "def load_audio(file_path):\n",
    "    # Load the audio file\n",
    "    rate, data = wav.read(file_path)\n",
    "    return data, rate"
   ]
  },
  {
   "cell_type": "code",
   "execution_count": 5,
   "metadata": {},
   "outputs": [],
   "source": [
    "# Load and process audio file\n",
    "\n",
    "# file_path = 'C:/Users/mrjac/Desktop/丁建均老師信號處理專題/thesis/hummingdata/10/lugo_愛你一萬年.wav'\n",
    "file_path = 'C:/Users/mrjac/Desktop/丁建均老師信號處理專題/thesis/hummingdata/15/15lugo_自由.wav'\n",
    "# file_path = 'C:/Users/mrjac/Desktop/丁建均老師信號處理專題/thesis/hummingdata/15/15bow_情非得已.wav'\n",
    "# file_path = 'C:/Users/mrjac/Desktop/丁建均老師信號處理專題/thesis/hummingdata/20/20lugo_挪威的森林.wav'\n",
    "\n",
    "data, rate = load_audio(file_path)\n",
    "time_slot_width = 0.01"
   ]
  },
  {
   "cell_type": "markdown",
   "metadata": {},
   "source": [
    "Step0 : Original Signal\n"
   ]
  },
  {
   "cell_type": "code",
   "execution_count": null,
   "metadata": {},
   "outputs": [],
   "source": [
    "time = np.arange(data.shape[0]) / rate\n",
    "plt.figure(figsize=(15, 3))\n",
    "plt.plot(time, data)\n",
    "plt.title('Original Signal')"
   ]
  },
  {
   "cell_type": "markdown",
   "metadata": {},
   "source": [
    "Step 1: Find envelope amplitude -> Time Slot的尺度變換問題"
   ]
  },
  {
   "cell_type": "code",
   "execution_count": null,
   "metadata": {},
   "outputs": [],
   "source": [
    "def find_envelope_amplitude(data, time_slot_width, rate):\n",
    "    n0 = int(time_slot_width * rate)\n",
    "    envelope_amplitude = np.abs(data[:len(data) // n0 * n0].reshape(-1, n0)).mean(axis=1)\n",
    "    # b, a = signal.butter(2, 0.1)\n",
    "    # envelope_amplitude = signal.filtfilt(b, a, np.abs(data))\n",
    "    \n",
    "    # Plotting the envelope amplitude\n",
    "    time_slots = np.arange(envelope_amplitude.shape[0]) * time_slot_width\n",
    "    plt.figure(figsize=(15, 3))\n",
    "    plt.plot(time_slots, envelope_amplitude)\n",
    "    plt.title('Envelope Amplitude (Step 1)')\n",
    "    plt.xlabel('Time (s)')\n",
    "    plt.ylabel('Amplitude')\n",
    "    plt.show()\n",
    "    \n",
    "    return envelope_amplitude\n",
    "\n",
    "envelope_amplitude_vals = find_envelope_amplitude(data, time_slot_width, rate)"
   ]
  },
  {
   "cell_type": "markdown",
   "metadata": {},
   "source": [
    "Step 2: Reduce the effect of the background noise"
   ]
  },
  {
   "cell_type": "code",
   "execution_count": null,
   "metadata": {},
   "outputs": [],
   "source": [
    "def reduce_background_noise(envelope_amplitude, rho=0.02):\n",
    "    reduced_noise_amplitude = np.maximum(envelope_amplitude - rho, 0)\n",
    "    \n",
    "    # Plotting the reduced noise amplitude\n",
    "    time_slots = np.arange(reduced_noise_amplitude.shape[0]) * time_slot_width\n",
    "    plt.figure()\n",
    "    plt.figure(figsize=(15, 3))\n",
    "    plt.plot(time_slots, reduced_noise_amplitude)\n",
    "    plt.title('Reduced Background Noise (Step 2)')\n",
    "    plt.xlabel('Time Slot Index')\n",
    "    plt.ylabel('Amplitude')\n",
    "    plt.show()\n",
    "    \n",
    "    return reduced_noise_amplitude\n",
    "\n",
    "reduced_noise_amplitude = reduce_background_noise(envelope_amplitude_vals)"
   ]
  },
  {
   "cell_type": "markdown",
   "metadata": {},
   "source": [
    "Step 3: Normalize the envelope amplitude"
   ]
  },
  {
   "cell_type": "code",
   "execution_count": null,
   "metadata": {},
   "outputs": [],
   "source": [
    "def normalize_envelope(envelope_amplitude):\n",
    "    normalized_amplitude = envelope_amplitude / (0.2 + 0.1*np.mean(envelope_amplitude))     #prob\n",
    "    \n",
    "    # Plotting the normalized envelope amplitude\n",
    "    time_slots = np.arange(normalized_amplitude.shape[0]) * time_slot_width\n",
    "    plt.figure()\n",
    "    plt.figure(figsize=(15, 3))\n",
    "    plt.plot(time_slots, normalized_amplitude)\n",
    "    plt.title('Normalized Envelope Amplitude (Step 3)')\n",
    "    plt.xlabel('Time Slot Index')\n",
    "    plt.ylabel('Normalized Amplitude')\n",
    "    plt.show()\n",
    "    \n",
    "    return normalized_amplitude\n",
    "\n",
    "normalized_amplitude = normalize_envelope(reduced_noise_amplitude)"
   ]
  },
  {
   "cell_type": "markdown",
   "metadata": {},
   "source": [
    "Step 4: Take the fractional power of the envelope amplitude"
   ]
  },
  {
   "cell_type": "code",
   "execution_count": null,
   "metadata": {},
   "outputs": [],
   "source": [
    "def fractional_power_amplitude(envelope_amplitude, laMbda=0.7):\n",
    "    fractional_amplitude = envelope_amplitude ** laMbda\n",
    "    \n",
    "    # Plotting the fractional power amplitude\n",
    "    plt.figure()\n",
    "    plt.figure(figsize=(15, 3))\n",
    "    plt.plot(fractional_amplitude)\n",
    "    plt.title('Fractional Power Amplitude (Step 4)')\n",
    "    plt.xlabel('Time Slot Index')\n",
    "    plt.ylabel('Amplitude')\n",
    "    plt.show()\n",
    "    \n",
    "    return fractional_amplitude\n",
    "\n",
    "fractional_amplitude = fractional_power_amplitude(normalized_amplitude)"
   ]
  },
  {
   "cell_type": "markdown",
   "metadata": {},
   "source": [
    "Step 5: Convolution with the envelope match filter"
   ]
  },
  {
   "cell_type": "code",
   "execution_count": null,
   "metadata": {},
   "outputs": [],
   "source": [
    "def convolution_with_filter(fractional_amplitude, time_slot_width):\n",
    "    match_filter = [3, 3, 4, 4, -1, -1, -2, -2, -2, -2, -2, -2]\n",
    "    filtered_signal = convolve(fractional_amplitude, match_filter, mode='same')\n",
    "    \n",
    "    # Plotting the convolution result\n",
    "    time_slots = np.arange(filtered_signal.shape[0]) * time_slot_width\n",
    "    plt.figure()\n",
    "    plt.figure(figsize=(15, 3))\n",
    "    plt.plot(time_slots, filtered_signal)\n",
    "    plt.title('Convolution with Envelope Match Filter (Step 5)')\n",
    "    plt.xlabel('Time (s)')\n",
    "    plt.ylabel('Filtered Signal')\n",
    "    plt.show()\n",
    "    \n",
    "    return filtered_signal\n",
    "\n",
    "filtered_signal = convolution_with_filter(fractional_amplitude, time_slot_width)"
   ]
  },
  {
   "cell_type": "markdown",
   "metadata": {},
   "source": [
    "Step 6: Thresholding to find the onsets -> 閾值的選擇問題"
   ]
  },
  {
   "cell_type": "code",
   "execution_count": null,
   "metadata": {},
   "outputs": [],
   "source": [
    "def detect_onsets(filtered_signal, threshold=4.5, data=None, rate=None, time_slot_width=None):\n",
    "    onsets = np.where(filtered_signal > threshold)[0]\n",
    "    \n",
    "    # Plotting the onsets on the original signal\n",
    "    if data is not None and rate is not None and time_slot_width is not None:\n",
    "        time = np.arange(data.shape[0]) / rate\n",
    "        plt.figure()\n",
    "        plt.figure(figsize=(15, 3))\n",
    "        plt.plot(time, data)\n",
    "        for onset in onsets:\n",
    "            onset_time = onset * time_slot_width\n",
    "            plt.axvline(x=onset_time, color='red', linestyle='--', label='Onset' if onset == onsets[0] else \"\")\n",
    "        plt.title('Detected Onsets (Step 6)')\n",
    "        plt.xlabel('Time (s)')\n",
    "        plt.ylabel('Amplitude')\n",
    "        plt.legend()\n",
    "        plt.show()\n",
    "    \n",
    "    return onsets\n",
    "\n",
    "onsets = detect_onsets(filtered_signal, data=data, rate=rate, time_slot_width=time_slot_width)"
   ]
  },
  {
   "cell_type": "markdown",
   "metadata": {},
   "source": [
    "Refine Onset : (a)[0.2 < Onset < L - 0.2], (b)[interval > 0.15]"
   ]
  },
  {
   "cell_type": "code",
   "execution_count": null,
   "metadata": {},
   "outputs": [],
   "source": [
    "\n",
    "def refine_onsets(onsets, rate, time_slot_width, min_interval=0.15, start_offset=0.2, end_offset=0.2, data_length=None):\n",
    "    # Convert 0.2 seconds and 0.15 seconds to samples\n",
    "    start_limit = int(start_offset / time_slot_width)\n",
    "    end_limit = int((rate - end_offset) / time_slot_width)\n",
    "    min_interval_samples = int(min_interval / time_slot_width)\n",
    "\n",
    "    # Exclude onsets near start and end\n",
    "    refined_onsets = [onset for onset in onsets if start_limit <= onset <= end_limit]\n",
    "\n",
    "    # Remove onsets that are too close to each other\n",
    "    final_onsets = []\n",
    "    for i in range(len(refined_onsets)):\n",
    "        if i == 0 or (refined_onsets[i] - refined_onsets[i-1] >= min_interval_samples):\n",
    "            final_onsets.append(refined_onsets[i])\n",
    "\n",
    "    time = np.arange(data.shape[0]) / rate\n",
    "    plt.figure()\n",
    "    plt.figure(figsize=(15, 3))\n",
    "    plt.plot(time, data)\n",
    "    for onset in final_onsets:\n",
    "        onset_time = onset * time_slot_width\n",
    "        plt.axvline(x=onset_time, color='red', linestyle='--', label='Onset' if onset == final_onsets[0] else \"\")\n",
    "    plt.title('Detected Onsets with Refine Process')\n",
    "    plt.xlabel('Time (s)')\n",
    "    plt.ylabel('Amplitude')\n",
    "    plt.legend()\n",
    "    plt.show()\n",
    "\n",
    "    return np.array(final_onsets)\n",
    "\n",
    "refined_onsets = refine_onsets(onsets, rate, time_slot_width, data_length=len(data))"
   ]
  }
 ],
 "metadata": {
  "kernelspec": {
   "display_name": "Python 3",
   "language": "python",
   "name": "python3"
  },
  "language_info": {
   "codemirror_mode": {
    "name": "ipython",
    "version": 3
   },
   "file_extension": ".py",
   "mimetype": "text/x-python",
   "name": "python",
   "nbconvert_exporter": "python",
   "pygments_lexer": "ipython3",
   "version": "3.12.4"
  }
 },
 "nbformat": 4,
 "nbformat_minor": 2
}
