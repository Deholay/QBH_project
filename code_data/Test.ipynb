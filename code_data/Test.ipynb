{
 "cells": [
  {
   "cell_type": "code",
   "execution_count": 5,
   "metadata": {},
   "outputs": [
    {
     "name": "stdout",
     "output_type": "stream",
     "text": [
      "['11235535567HH5HH6536532123565321', '22222242222224222222211211211224']\n"
     ]
    }
   ],
   "source": [
    "line = \"三輪車　　　　　　　　　　　　　　　　　11235535567HH5HH6536532123565321/22222242222224222222211211211224\"\n",
    "parts = line.strip().split()\n",
    "parts = parts[1].split(\"/\")\n",
    "print(parts)"
   ]
  },
  {
   "cell_type": "code",
   "execution_count": null,
   "metadata": {},
   "outputs": [],
   "source": [
    "\n",
    "audio_name = os.path.splitext(audio_file)[0]"
   ]
  },
  {
   "cell_type": "code",
   "execution_count": 2,
   "metadata": {},
   "outputs": [
    {
     "name": "stdout",
     "output_type": "stream",
     "text": [
      "[[2.         1.5        1.33333333]\n",
      " [5.         3.         2.33333333]\n",
      " [8.         4.5        3.33333333]]\n"
     ]
    }
   ],
   "source": [
    "import numpy\n",
    "matrix = numpy.array([[2, 3, 4], [5, 6, 7], [8, 9, 10]])\n",
    "array = [1, 2, 3]\n",
    "\n",
    "print(matrix/array)"
   ]
  }
 ],
 "metadata": {
  "kernelspec": {
   "display_name": "Python 3",
   "language": "python",
   "name": "python3"
  },
  "language_info": {
   "codemirror_mode": {
    "name": "ipython",
    "version": 3
   },
   "file_extension": ".py",
   "mimetype": "text/x-python",
   "name": "python",
   "nbconvert_exporter": "python",
   "pygments_lexer": "ipython3",
   "version": "3.12.4"
  }
 },
 "nbformat": 4,
 "nbformat_minor": 2
}
